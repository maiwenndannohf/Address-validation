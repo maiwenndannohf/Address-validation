{
 "cells": [
  {
   "cell_type": "code",
   "execution_count": 1,
   "metadata": {},
   "outputs": [],
   "source": [
    "import pandas as pd, numpy as np\n",
    "from API_calls_functions import *\n",
    "from Analysis_functions import *"
   ]
  },
  {
   "cell_type": "code",
   "execution_count": 2,
   "metadata": {},
   "outputs": [],
   "source": [
    "OTP_path = 'OTP_data_W48-W5.csv' #'OTP_data_W1-W4.csv'\n",
    "CC_path = 'CC_data_Dec_Jan.csv'\n",
    "Spend_path = 'Address Correction Spend.csv'"
   ]
  },
  {
   "cell_type": "markdown",
   "metadata": {},
   "source": [
    "Read Data"
   ]
  },
  {
   "cell_type": "code",
   "execution_count": 3,
   "metadata": {},
   "outputs": [
    {
     "name": "stdout",
     "output_type": "stream",
     "text": [
      "Nb weeks 10\n"
     ]
    }
   ],
   "source": [
    "OTP = pd.read_csv(OTP_path)\n",
    "Nb_weeks = OTP['HELLOFRESH_WEEK'].nunique()\n",
    "Spend = pd.read_csv(Spend_path)\n",
    "CC = pd.read_csv(CC_path)\n",
    "print(\"Nb weeks\",Nb_weeks)"
   ]
  },
  {
   "cell_type": "markdown",
   "metadata": {},
   "source": [
    "Define Functions"
   ]
  },
  {
   "cell_type": "code",
   "execution_count": 19,
   "metadata": {},
   "outputs": [],
   "source": [
    "def get_box_type(du_id):\n",
    "    if du_id.endswith('R'):\n",
    "        return 'Remake'\n",
    "    elif du_id.endswith('V'):\n",
    "        return 'VIP'\n",
    "    else:\n",
    "        return 'Original'\n",
    "\n",
    "def get_OTP_Counts(OTP):\n",
    "    grouped_counts = OTP.groupby(['OTP_GROUP']).size().reset_index(name='total count')\n",
    "    grouped_counts['perc'] = round(grouped_counts['total count'].transform(lambda x: x / x.sum() * 100),2)\n",
    "    grouped_counts['weekly count'] = round(grouped_counts['total count'] / Nb_weeks)\n",
    "    return grouped_counts\n",
    "\n",
    "def retrieve_OTP_weekly_counts(OTP):\n",
    "    non_flags_OTP_perc=dict()\n",
    "    non_flags_OTP_perc['L1']=OTP.loc[OTP['OTP_GROUP'] == 'Late_1', 'weekly count'].values[0]\n",
    "    non_flags_OTP_perc['L2']=OTP.loc[OTP['OTP_GROUP'] == 'Late_2', 'weekly count'].values[0]\n",
    "    non_flags_OTP_perc['U']=OTP.loc[OTP['OTP_GROUP'] == 'Undelivered', 'weekly count'].values[0]\n",
    "    return non_flags_OTP_perc\n",
    "\n",
    "def retrieve_OTP_perc(OTP):\n",
    "    non_flags_OTP_perc=dict()\n",
    "    non_flags_OTP_perc['L1']=round(OTP.loc[OTP['OTP_GROUP'] == 'Late_1', 'perc'].values[0]/100,3)\n",
    "    non_flags_OTP_perc['L2']=round(OTP.loc[OTP['OTP_GROUP'] == 'Late_2', 'perc'].values[0]/100,3)\n",
    "    non_flags_OTP_perc['U']=round(OTP.loc[OTP['OTP_GROUP'] == 'Undelivered', 'perc'].values[0]/100,3)\n",
    "    return non_flags_OTP_perc\n",
    "\n",
    "def retrieve_avg_comp(address_flags_CC_costs_OTP):\n",
    "    avg_comp=dict()\n",
    "    avg_comp['L1']=address_flags_CC_costs_OTP.loc[address_flags_CC_costs_OTP['OTP_GROUP'] == 'Late_1', 'avg box comp'].values[0]\n",
    "    avg_comp['L2']=address_flags_CC_costs_OTP.loc[address_flags_CC_costs_OTP['OTP_GROUP'] == 'Late_2', 'avg box comp'].values[0]\n",
    "    avg_comp['U']=address_flags_CC_costs_OTP.loc[address_flags_CC_costs_OTP['OTP_GROUP'] == 'Undelivered', 'avg box comp'].values[0]\n",
    "    return avg_comp\n",
    "\n",
    "def compute_savings_per_OTP(flags_OTP_count,flags_OTP_perc,non_flags_OTP_perc,avg_comp):\n",
    "    res=dict()\n",
    "    for key in avg_comp.keys():\n",
    "        res[key]=dict()\n",
    "        new_OTP_nb=flags_OTP_count[key]/flags_OTP_perc[key]*non_flags_OTP_perc[key]\n",
    "        gap=flags_OTP_count[key]-new_OTP_nb\n",
    "        comp_savings=gap*avg_comp[key]\n",
    "        res[key]['gap']=round(gap,2)\n",
    "        res[key]['savings']=round(comp_savings,2)\n",
    "    return res\n",
    "\n",
    "def get_carrier_charges(OTP):\n",
    "    grouped_counts = OTP.groupby(['brand']).agg({'correction_charge':'sum'}).reset_index()\n",
    "    grouped_counts['weekly charges'] = round(grouped_counts['correction_charge'] / Nb_weeks)\n",
    "    return grouped_counts\n",
    "\n",
    "def get_positive_carrier_charges_and_OTP(OTP):\n",
    "    OTP_positive_charges=OTP[OTP['correction_charge'] > 0]\n",
    "    grouped_counts = OTP_positive_charges.groupby(['OTP_GROUP']).agg({'correction_charge': 'sum', 'BOX_ID': 'count'}).reset_index()\n",
    "    grouped_counts['weekly charges'] = round(grouped_counts['correction_charge'] / Nb_weeks)\n",
    "    grouped_counts['weekly count'] = round(grouped_counts['BOX_ID'] / Nb_weeks)\n",
    "    grouped_counts['count perc'] = round(grouped_counts['weekly count'].transform(lambda x: x / x.sum() * 100),2)\n",
    "    return grouped_counts\n",
    "\n",
    "def get_CC_for_corrected_boxes(OTP,CC):\n",
    "    box_with_positive_charges=OTP[OTP['correction_charge'] > 0][['BOX_ID','brand']].drop_duplicates()\n",
    "    CC_costs=pd.merge(box_with_positive_charges, CC, on='BOX_ID',how='left').groupby('brand').agg({'BOX_ID': 'count',\n",
    "    'TOTAL_COMPENSATION_AMOUNT': 'sum'}).reset_index().rename(columns={'BOX_ID': 'box_count'})\n",
    "    CC_costs['weekly compensation'] = round(CC_costs['TOTAL_COMPENSATION_AMOUNT'] / Nb_weeks)\n",
    "    return CC_costs\n",
    "\n",
    "def get_CC_costs_brand(OTP,CC):\n",
    "    BOX_Ids = OTP[['BOX_ID','brand']].drop_duplicates()\n",
    "    CC_costs=pd.merge(BOX_Ids, CC, on='BOX_ID',how='left').groupby('brand').agg({'BOX_ID': 'count',\n",
    "    'TOTAL_COMPENSATION_AMOUNT': 'sum'}).reset_index().rename(columns={'BOX_ID': 'box_count'})\n",
    "    CC_costs['weekly compensation'] = round(CC_costs['TOTAL_COMPENSATION_AMOUNT'] / Nb_weeks)\n",
    "    CC_costs['avg box comp'] = round(CC_costs['TOTAL_COMPENSATION_AMOUNT'] / CC_costs['box_count'])\n",
    "    return CC_costs\n",
    "\n",
    "def get_CC_costs(OTP,CC):\n",
    "    # Does NOT make sense to look at the OTP level since duplicated box_id with different OTP_GROUP (du_id level)\n",
    "    BOX_Ids = OTP['BOX_ID'].drop_duplicates()\n",
    "    CC_costs=pd.merge(BOX_Ids, CC, on='BOX_ID',how='left')\n",
    "\n",
    "    weekly_count = CC_costs['BOX_ID'].count()/Nb_weeks\n",
    "    weekly_sum = round(CC_costs['TOTAL_COMPENSATION_AMOUNT'].sum()/Nb_weeks)\n",
    "    avg_comp=round(weekly_sum/weekly_count,2)\n",
    "\n",
    "    #print(\"Weekly CC compensation : $\",weekly_sum)\n",
    "    print(\"Avg comp per box shipped : $\",avg_comp)\n",
    "    return \n",
    "\n",
    "def get_positive_CC_costs(OTP,CC): # Only counting boxes with compensation\n",
    "    BOX_Ids = OTP['BOX_ID'].drop_duplicates()\n",
    "    CC_costs=pd.merge(BOX_Ids, CC, on='BOX_ID',how='left')\n",
    "    CC_costs=CC_costs[CC_costs['TOTAL_COMPENSATION_AMOUNT']>0]\n",
    "    \n",
    "    weekly_count = CC_costs['BOX_ID'].count()/Nb_weeks\n",
    "    weekly_sum = round(CC_costs['TOTAL_COMPENSATION_AMOUNT'].sum()/Nb_weeks)\n",
    "    avg_comp=round(weekly_sum/weekly_count,2)\n",
    "\n",
    "    print(\"Weekly CC compensation : $\",weekly_sum)\n",
    "    print(\"Avg comp per box compensated: $\",avg_comp)\n",
    "    return \n",
    "\n",
    "def get_CC_costs_for_LU(OTP,CC):\n",
    "    BOX_Ids_LU = OTP[OTP['OTP_GROUP'].isin(['Late_1','Late_2','Undelivered'])]['BOX_ID'].drop_duplicates()\n",
    "    CC_costs_LU=pd.merge(BOX_Ids_LU, CC, on='BOX_ID',how='left')\n",
    "\n",
    "    weekly_count = len(BOX_Ids_LU)/Nb_weeks\n",
    "    weekly_sum = round(CC_costs_LU['TOTAL_COMPENSATION_AMOUNT'].sum()/Nb_weeks)\n",
    "    avg_comp=round(weekly_sum/weekly_count,2)\n",
    "\n",
    "    print(\"Weekly CC compensation for LU: $\",weekly_sum)\n",
    "    print(\"nb weekly boxes LU: \",weekly_count)\n",
    "\n",
    "    print(\"Avg comp per box LU : $\",avg_comp)\n",
    "    return \n",
    "\n",
    "def get_positive_CC_costs_for_LU(OTP,CC):\n",
    "    BOX_Ids_LU = OTP[OTP['OTP_GROUP'].isin(['Late_1','Late_2','Undelivered'])]['BOX_ID'].drop_duplicates()\n",
    "    CC_costs_LU=pd.merge(BOX_Ids_LU, CC, on='BOX_ID',how='left')\n",
    "    CC_costs_LU=CC_costs_LU[CC_costs_LU['TOTAL_COMPENSATION_AMOUNT']>0]\n",
    "\n",
    "    weekly_count = CC_costs_LU['BOX_ID'].count()/Nb_weeks\n",
    "    weekly_sum = round(CC_costs_LU['TOTAL_COMPENSATION_AMOUNT'].sum()/Nb_weeks)\n",
    "    avg_comp=round(weekly_sum/weekly_count,2)\n",
    "\n",
    "    #print(\"Weekly CC compensation for LU: $\",weekly_sum)\n",
    "    print(\"nb weekly boxes LU compensated: \",weekly_count)\n",
    "    print(\"Avg comp per box LU compensated: $\",avg_comp)\n",
    "    return "
   ]
  },
  {
   "cell_type": "markdown",
   "metadata": {},
   "source": [
    "Data preprocessing & Join OTP and Spends"
   ]
  },
  {
   "cell_type": "code",
   "execution_count": 5,
   "metadata": {},
   "outputs": [],
   "source": [
    "OTP.rename(columns={'DU_ID': 'du_id','BRAND': 'brand'}, inplace=True)\n",
    "OTP['Box_type'] = OTP['du_id'].apply(get_box_type)\n",
    "\n",
    "Spend=Spend.rename(columns={'Address Correction Approved Amount':'correction_charge','Tracking Number':'TRACKING_CODE'})\n",
    "Spend['correction_charge'] = Spend['correction_charge'].replace('[\\$,]', '', regex=True).astype(float)\n",
    "\n",
    "OTP_charges=pd.merge(OTP, Spend[['correction_charge','TRACKING_CODE']], on='TRACKING_CODE',how='left').groupby(['du_id','BOX_ID','brand','HELLOFRESH_WEEK','Box_type','OTP_GROUP','FINAL_ROOT_CAUSE']).agg({\n",
    "    'correction_charge': 'sum'}).reset_index()\n",
    "\n",
    "CC=CC.groupby('BOX_ID').agg({'TOTAL_COMPENSATION_AMOUNT':'sum'}).reset_index()"
   ]
  },
  {
   "cell_type": "code",
   "execution_count": 6,
   "metadata": {},
   "outputs": [
    {
     "data": {
      "text/html": [
       "<div>\n",
       "<style scoped>\n",
       "    .dataframe tbody tr th:only-of-type {\n",
       "        vertical-align: middle;\n",
       "    }\n",
       "\n",
       "    .dataframe tbody tr th {\n",
       "        vertical-align: top;\n",
       "    }\n",
       "\n",
       "    .dataframe thead th {\n",
       "        text-align: right;\n",
       "    }\n",
       "</style>\n",
       "<table border=\"1\" class=\"dataframe\">\n",
       "  <thead>\n",
       "    <tr style=\"text-align: right;\">\n",
       "      <th></th>\n",
       "      <th>BOX_ID</th>\n",
       "      <th>TOTAL_COMPENSATION_AMOUNT</th>\n",
       "      <th>HELLOFRESH_WEEK</th>\n",
       "      <th>brand</th>\n",
       "      <th>du_id</th>\n",
       "      <th>OTP_GROUP</th>\n",
       "      <th>FINAL_ROOT_CAUSE</th>\n",
       "      <th>TRACKING_CODE</th>\n",
       "      <th>Box_type</th>\n",
       "    </tr>\n",
       "  </thead>\n",
       "  <tbody>\n",
       "    <tr>\n",
       "      <th>0</th>\n",
       "      <td>CG11957124</td>\n",
       "      <td>9.60</td>\n",
       "      <td>2024-W02</td>\n",
       "      <td>GC</td>\n",
       "      <td>C119571240</td>\n",
       "      <td>On_Time</td>\n",
       "      <td>Weather</td>\n",
       "      <td>1ZT14T91P202323096</td>\n",
       "      <td>Original</td>\n",
       "    </tr>\n",
       "    <tr>\n",
       "      <th>1</th>\n",
       "      <td>US316191751</td>\n",
       "      <td>120.87</td>\n",
       "      <td>2024-W02</td>\n",
       "      <td>HF</td>\n",
       "      <td>H3161917510</td>\n",
       "      <td>On_Time</td>\n",
       "      <td>Undetermined</td>\n",
       "      <td>1Z934W3FP201780537</td>\n",
       "      <td>Original</td>\n",
       "    </tr>\n",
       "    <tr>\n",
       "      <th>2</th>\n",
       "      <td>US316201000</td>\n",
       "      <td>4.96</td>\n",
       "      <td>2024-W02</td>\n",
       "      <td>HF</td>\n",
       "      <td>H3162010000</td>\n",
       "      <td>On_Time</td>\n",
       "      <td>Undetermined</td>\n",
       "      <td>1Z6W7887P211204896</td>\n",
       "      <td>Original</td>\n",
       "    </tr>\n",
       "    <tr>\n",
       "      <th>3</th>\n",
       "      <td>US316160385</td>\n",
       "      <td>10.00</td>\n",
       "      <td>2024-W02</td>\n",
       "      <td>HF</td>\n",
       "      <td>H3161603850</td>\n",
       "      <td>On_Time</td>\n",
       "      <td>Undetermined</td>\n",
       "      <td>1Z0X6337P200797786</td>\n",
       "      <td>Original</td>\n",
       "    </tr>\n",
       "    <tr>\n",
       "      <th>4</th>\n",
       "      <td>US316160943</td>\n",
       "      <td>49.76</td>\n",
       "      <td>2024-W02</td>\n",
       "      <td>HF</td>\n",
       "      <td>H3161609430</td>\n",
       "      <td>On_Time</td>\n",
       "      <td>Undetermined</td>\n",
       "      <td>1Z2E2R79P220678840</td>\n",
       "      <td>Original</td>\n",
       "    </tr>\n",
       "    <tr>\n",
       "      <th>...</th>\n",
       "      <td>...</td>\n",
       "      <td>...</td>\n",
       "      <td>...</td>\n",
       "      <td>...</td>\n",
       "      <td>...</td>\n",
       "      <td>...</td>\n",
       "      <td>...</td>\n",
       "      <td>...</td>\n",
       "      <td>...</td>\n",
       "    </tr>\n",
       "    <tr>\n",
       "      <th>995615</th>\n",
       "      <td>FJ34449471</td>\n",
       "      <td>17.99</td>\n",
       "      <td>2023-W50</td>\n",
       "      <td>FA</td>\n",
       "      <td>F2985212410</td>\n",
       "      <td>On_Time</td>\n",
       "      <td>Undetermined</td>\n",
       "      <td>1ZY6E891P202701695</td>\n",
       "      <td>Original</td>\n",
       "    </tr>\n",
       "    <tr>\n",
       "      <th>995616</th>\n",
       "      <td>FJ34276641</td>\n",
       "      <td>27.98</td>\n",
       "      <td>2023-W50</td>\n",
       "      <td>FA</td>\n",
       "      <td>F2431831350</td>\n",
       "      <td>On_Time</td>\n",
       "      <td>Production Issues</td>\n",
       "      <td>HFDN0016627462</td>\n",
       "      <td>Original</td>\n",
       "    </tr>\n",
       "    <tr>\n",
       "      <th>995617</th>\n",
       "      <td>FJ34433609</td>\n",
       "      <td>22.00</td>\n",
       "      <td>2023-W50</td>\n",
       "      <td>FA</td>\n",
       "      <td>F2487182410</td>\n",
       "      <td>On_Time</td>\n",
       "      <td>Final Mile</td>\n",
       "      <td>SCD0000F00200450062</td>\n",
       "      <td>Original</td>\n",
       "    </tr>\n",
       "    <tr>\n",
       "      <th>995618</th>\n",
       "      <td>FJ34433609</td>\n",
       "      <td>22.00</td>\n",
       "      <td>2023-W50</td>\n",
       "      <td>FA</td>\n",
       "      <td>F2487182410</td>\n",
       "      <td>On_Time</td>\n",
       "      <td>Final Mile</td>\n",
       "      <td>SCD0000F00300996885</td>\n",
       "      <td>Original</td>\n",
       "    </tr>\n",
       "    <tr>\n",
       "      <th>995619</th>\n",
       "      <td>FJ33892460</td>\n",
       "      <td>16.00</td>\n",
       "      <td>2023-W49</td>\n",
       "      <td>FA</td>\n",
       "      <td>F2777672350</td>\n",
       "      <td>On_Time</td>\n",
       "      <td>Production Issues</td>\n",
       "      <td>SCD0000F00300925812</td>\n",
       "      <td>Original</td>\n",
       "    </tr>\n",
       "  </tbody>\n",
       "</table>\n",
       "<p>995620 rows × 9 columns</p>\n",
       "</div>"
      ],
      "text/plain": [
       "             BOX_ID  TOTAL_COMPENSATION_AMOUNT HELLOFRESH_WEEK brand  \\\n",
       "0        CG11957124                       9.60        2024-W02    GC   \n",
       "1       US316191751                     120.87        2024-W02    HF   \n",
       "2       US316201000                       4.96        2024-W02    HF   \n",
       "3       US316160385                      10.00        2024-W02    HF   \n",
       "4       US316160943                      49.76        2024-W02    HF   \n",
       "...             ...                        ...             ...   ...   \n",
       "995615   FJ34449471                      17.99        2023-W50    FA   \n",
       "995616   FJ34276641                      27.98        2023-W50    FA   \n",
       "995617   FJ34433609                      22.00        2023-W50    FA   \n",
       "995618   FJ34433609                      22.00        2023-W50    FA   \n",
       "995619   FJ33892460                      16.00        2023-W49    FA   \n",
       "\n",
       "              du_id OTP_GROUP   FINAL_ROOT_CAUSE        TRACKING_CODE  \\\n",
       "0        C119571240   On_Time            Weather   1ZT14T91P202323096   \n",
       "1       H3161917510   On_Time       Undetermined   1Z934W3FP201780537   \n",
       "2       H3162010000   On_Time       Undetermined   1Z6W7887P211204896   \n",
       "3       H3161603850   On_Time       Undetermined   1Z0X6337P200797786   \n",
       "4       H3161609430   On_Time       Undetermined   1Z2E2R79P220678840   \n",
       "...             ...       ...                ...                  ...   \n",
       "995615  F2985212410   On_Time       Undetermined   1ZY6E891P202701695   \n",
       "995616  F2431831350   On_Time  Production Issues       HFDN0016627462   \n",
       "995617  F2487182410   On_Time         Final Mile  SCD0000F00200450062   \n",
       "995618  F2487182410   On_Time         Final Mile  SCD0000F00300996885   \n",
       "995619  F2777672350   On_Time  Production Issues  SCD0000F00300925812   \n",
       "\n",
       "        Box_type  \n",
       "0       Original  \n",
       "1       Original  \n",
       "2       Original  \n",
       "3       Original  \n",
       "4       Original  \n",
       "...          ...  \n",
       "995615  Original  \n",
       "995616  Original  \n",
       "995617  Original  \n",
       "995618  Original  \n",
       "995619  Original  \n",
       "\n",
       "[995620 rows x 9 columns]"
      ]
     },
     "metadata": {},
     "output_type": "display_data"
    }
   ],
   "source": [
    "BOX_Ids_not_LU = OTP[~OTP['OTP_GROUP'].isin(['Late_1','Late_2','Undelivered'])]['BOX_ID'].drop_duplicates()\n",
    "CC_costs_not_LU=pd.merge(BOX_Ids_not_LU, CC, on='BOX_ID',how='left')\n",
    "CC_costs_not_LU=CC_costs_not_LU[CC_costs_not_LU['TOTAL_COMPENSATION_AMOUNT']>0]\n",
    "OTP_with_CC_not_LU = pd.merge(CC_costs_not_LU,OTP,on='BOX_ID',how='left')\n",
    "display(OTP_with_CC_not_LU)"
   ]
  },
  {
   "cell_type": "markdown",
   "metadata": {},
   "source": [
    "Define Address flags boxes and Non-Address flags"
   ]
  },
  {
   "cell_type": "code",
   "execution_count": 7,
   "metadata": {},
   "outputs": [],
   "source": [
    "address_flags = OTP_charges[(OTP_charges['FINAL_ROOT_CAUSE'].isin(('Access Issues', 'Address Issues'))) | (OTP_charges['correction_charge'] > 0)]\n",
    "non_address_flags = OTP_charges[~(OTP_charges['FINAL_ROOT_CAUSE'].isin(('Access Issues', 'Address Issues'))) & ~(OTP_charges['correction_charge'] > 0)]"
   ]
  },
  {
   "cell_type": "markdown",
   "metadata": {},
   "source": [
    "1) Get Avg Count and Percentage of du_ids with Address Flags, overall and then per brands"
   ]
  },
  {
   "cell_type": "code",
   "execution_count": 17,
   "metadata": {},
   "outputs": [
    {
     "name": "stdout",
     "output_type": "stream",
     "text": [
      "Total Nb of du_ids : 11443115\n",
      "Weekly Nb of du_ids with address flags : 4391.6 \t 0.38 %\n",
      "Weekly Nb of box_ids with address flags: 4218.1 \t 0.38 %\n"
     ]
    },
    {
     "data": {
      "text/html": [
       "<div>\n",
       "<style scoped>\n",
       "    .dataframe tbody tr th:only-of-type {\n",
       "        vertical-align: middle;\n",
       "    }\n",
       "\n",
       "    .dataframe tbody tr th {\n",
       "        vertical-align: top;\n",
       "    }\n",
       "\n",
       "    .dataframe thead th {\n",
       "        text-align: right;\n",
       "    }\n",
       "</style>\n",
       "<table border=\"1\" class=\"dataframe\">\n",
       "  <thead>\n",
       "    <tr style=\"text-align: right;\">\n",
       "      <th></th>\n",
       "      <th>brand</th>\n",
       "      <th>total</th>\n",
       "      <th>weekly avg</th>\n",
       "    </tr>\n",
       "  </thead>\n",
       "  <tbody>\n",
       "    <tr>\n",
       "      <th>0</th>\n",
       "      <td>EP</td>\n",
       "      <td>5368</td>\n",
       "      <td>536.8</td>\n",
       "    </tr>\n",
       "    <tr>\n",
       "      <th>1</th>\n",
       "      <td>FA</td>\n",
       "      <td>9777</td>\n",
       "      <td>977.7</td>\n",
       "    </tr>\n",
       "    <tr>\n",
       "      <th>2</th>\n",
       "      <td>GC</td>\n",
       "      <td>2428</td>\n",
       "      <td>242.8</td>\n",
       "    </tr>\n",
       "    <tr>\n",
       "      <th>3</th>\n",
       "      <td>HF</td>\n",
       "      <td>26343</td>\n",
       "      <td>2634.3</td>\n",
       "    </tr>\n",
       "  </tbody>\n",
       "</table>\n",
       "</div>"
      ],
      "text/plain": [
       "  brand  total  weekly avg\n",
       "0    EP   5368       536.8\n",
       "1    FA   9777       977.7\n",
       "2    GC   2428       242.8\n",
       "3    HF  26343      2634.3"
      ]
     },
     "metadata": {},
     "output_type": "display_data"
    }
   ],
   "source": [
    "print(\"Total Nb of du_ids :\",len(OTP))\n",
    "#display(OTP.groupby('brand').size().reset_index())\n",
    "print(\"Weekly Nb of du_ids with address flags :\",len(address_flags)/Nb_weeks,\"\\t\",round(len(address_flags)/len(OTP)*100,2),\"%\")\n",
    "print(\"Weekly Nb of box_ids with address flags:\", len(address_flags['BOX_ID'].drop_duplicates()) / Nb_weeks, \"\\t\", round(len(address_flags['BOX_ID'].drop_duplicates()) / len(OTP['BOX_ID'].drop_duplicates()) * 100, 2), \"%\")\n",
    "address_flags_per_brand=address_flags.groupby('brand').size().reset_index().rename(columns={0:'total'})\n",
    "address_flags_per_brand['weekly avg']=address_flags_per_brand['total']/Nb_weeks\n",
    "display(address_flags_per_brand)"
   ]
  },
  {
   "cell_type": "markdown",
   "metadata": {},
   "source": [
    "2. Get Avg Cound and Percentage of OTP group among du_ids with address flags"
   ]
  },
  {
   "cell_type": "code",
   "execution_count": 9,
   "metadata": {},
   "outputs": [
    {
     "name": "stdout",
     "output_type": "stream",
     "text": [
      "{'L1': 1772.0, 'L2': 387.0, 'U': 1032.0}\n",
      "{'L1': 0.404, 'L2': 0.088, 'U': 0.235}\n"
     ]
    }
   ],
   "source": [
    "address_flags_OTP=get_OTP_Counts(address_flags)\n",
    "#display(address_flags_OTP[['OTP_GROUP', 'weekly count', 'perc']])\n",
    "flags_count=retrieve_OTP_weekly_counts(address_flags_OTP)\n",
    "flags_perc=retrieve_OTP_perc(address_flags_OTP)\n",
    "print(flags_count)\n",
    "print(flags_perc)"
   ]
  },
  {
   "cell_type": "markdown",
   "metadata": {},
   "source": [
    "3. Compare weekly compensation and avg comp per box shipped and compensated"
   ]
  },
  {
   "cell_type": "code",
   "execution_count": 21,
   "metadata": {},
   "outputs": [
    {
     "name": "stdout",
     "output_type": "stream",
     "text": [
      "For Address Flags boxes\n",
      "Weekly CC compensation : $ 136143\n",
      "Avg comp per box compensated: $ 83.54\n",
      "Avg comp per box shipped : $ 32.28\n",
      "Weekly CC compensation for LU:  127752\n",
      "nb weekly boxes LU:  3052.1\n",
      "Avg comp per box LU : $ 41.86\n",
      "nb weekly boxes LU compensated:  1473.3\n",
      "Avg comp per box LU compensated: $ 86.71\n",
      "\n",
      " For Non Address Flags boxes\n",
      "Weekly CC compensation : $ 5235622\n",
      "Avg comp per box compensated: $ 42.28\n",
      "Avg comp per box shipped : $ 4.7\n",
      "Weekly CC compensation for LU:  2065139\n",
      "nb weekly boxes LU:  77808.3\n",
      "Avg comp per box LU : $ 26.54\n",
      "nb weekly boxes LU compensated:  29863.8\n",
      "Avg comp per box LU compensated: $ 69.15\n"
     ]
    }
   ],
   "source": [
    "print(\"For Address Flags boxes\")\n",
    "get_positive_CC_costs(address_flags,CC)\n",
    "get_CC_costs(address_flags,CC)\n",
    "get_CC_costs_for_LU(address_flags,CC)\n",
    "get_positive_CC_costs_for_LU(address_flags,CC)\n",
    "\n",
    "print(\"\\n For Non Address Flags boxes\")\n",
    "get_positive_CC_costs(non_address_flags,CC) \n",
    "get_CC_costs(non_address_flags,CC)\n",
    "get_CC_costs_for_LU(non_address_flags,CC)\n",
    "get_positive_CC_costs_for_LU(non_address_flags,CC)\n"
   ]
  },
  {
   "cell_type": "code",
   "execution_count": 13,
   "metadata": {},
   "outputs": [
    {
     "data": {
      "text/plain": [
       "127878.8"
      ]
     },
     "execution_count": 13,
     "metadata": {},
     "output_type": "execute_result"
    }
   ],
   "source": [
    "41.9*3052"
   ]
  },
  {
   "cell_type": "markdown",
   "metadata": {},
   "source": [
    "4. Avg comp per brand"
   ]
  },
  {
   "cell_type": "code",
   "execution_count": 22,
   "metadata": {},
   "outputs": [
    {
     "data": {
      "text/html": [
       "<div>\n",
       "<style scoped>\n",
       "    .dataframe tbody tr th:only-of-type {\n",
       "        vertical-align: middle;\n",
       "    }\n",
       "\n",
       "    .dataframe tbody tr th {\n",
       "        vertical-align: top;\n",
       "    }\n",
       "\n",
       "    .dataframe thead th {\n",
       "        text-align: right;\n",
       "    }\n",
       "</style>\n",
       "<table border=\"1\" class=\"dataframe\">\n",
       "  <thead>\n",
       "    <tr style=\"text-align: right;\">\n",
       "      <th></th>\n",
       "      <th>brand</th>\n",
       "      <th>box_count</th>\n",
       "      <th>TOTAL_COMPENSATION_AMOUNT</th>\n",
       "      <th>weekly compensation</th>\n",
       "      <th>avg box comp</th>\n",
       "    </tr>\n",
       "  </thead>\n",
       "  <tbody>\n",
       "    <tr>\n",
       "      <th>0</th>\n",
       "      <td>EP</td>\n",
       "      <td>4776</td>\n",
       "      <td>160084.36</td>\n",
       "      <td>16008.0</td>\n",
       "      <td>34.0</td>\n",
       "    </tr>\n",
       "    <tr>\n",
       "      <th>1</th>\n",
       "      <td>FA</td>\n",
       "      <td>9478</td>\n",
       "      <td>351852.40</td>\n",
       "      <td>35185.0</td>\n",
       "      <td>37.0</td>\n",
       "    </tr>\n",
       "    <tr>\n",
       "      <th>2</th>\n",
       "      <td>GC</td>\n",
       "      <td>2157</td>\n",
       "      <td>122442.96</td>\n",
       "      <td>12244.0</td>\n",
       "      <td>57.0</td>\n",
       "    </tr>\n",
       "    <tr>\n",
       "      <th>3</th>\n",
       "      <td>HF</td>\n",
       "      <td>25770</td>\n",
       "      <td>727051.91</td>\n",
       "      <td>72705.0</td>\n",
       "      <td>28.0</td>\n",
       "    </tr>\n",
       "  </tbody>\n",
       "</table>\n",
       "</div>"
      ],
      "text/plain": [
       "  brand  box_count  TOTAL_COMPENSATION_AMOUNT  weekly compensation  \\\n",
       "0    EP       4776                  160084.36              16008.0   \n",
       "1    FA       9478                  351852.40              35185.0   \n",
       "2    GC       2157                  122442.96              12244.0   \n",
       "3    HF      25770                  727051.91              72705.0   \n",
       "\n",
       "   avg box comp  \n",
       "0          34.0  \n",
       "1          37.0  \n",
       "2          57.0  \n",
       "3          28.0  "
      ]
     },
     "metadata": {},
     "output_type": "display_data"
    }
   ],
   "source": [
    "display(get_CC_costs_brand(address_flags,CC))\n",
    "#print(\"Total : $\",sum(get_CC_costs_brand(address_flags,CC)['weekly compensation']),\" charged weekly in CC comp\")"
   ]
  },
  {
   "cell_type": "code",
   "execution_count": 23,
   "metadata": {},
   "outputs": [
    {
     "data": {
      "text/html": [
       "<div>\n",
       "<style scoped>\n",
       "    .dataframe tbody tr th:only-of-type {\n",
       "        vertical-align: middle;\n",
       "    }\n",
       "\n",
       "    .dataframe tbody tr th {\n",
       "        vertical-align: top;\n",
       "    }\n",
       "\n",
       "    .dataframe thead th {\n",
       "        text-align: right;\n",
       "    }\n",
       "</style>\n",
       "<table border=\"1\" class=\"dataframe\">\n",
       "  <thead>\n",
       "    <tr style=\"text-align: right;\">\n",
       "      <th></th>\n",
       "      <th>brand</th>\n",
       "      <th>box_count</th>\n",
       "      <th>TOTAL_COMPENSATION_AMOUNT</th>\n",
       "      <th>weekly compensation</th>\n",
       "      <th>avg box comp</th>\n",
       "    </tr>\n",
       "  </thead>\n",
       "  <tbody>\n",
       "    <tr>\n",
       "      <th>0</th>\n",
       "      <td>EP</td>\n",
       "      <td>1067787</td>\n",
       "      <td>2801644.61</td>\n",
       "      <td>280164.0</td>\n",
       "      <td>3.0</td>\n",
       "    </tr>\n",
       "    <tr>\n",
       "      <th>1</th>\n",
       "      <td>FA</td>\n",
       "      <td>3212106</td>\n",
       "      <td>32264959.93</td>\n",
       "      <td>3226496.0</td>\n",
       "      <td>10.0</td>\n",
       "    </tr>\n",
       "    <tr>\n",
       "      <th>2</th>\n",
       "      <td>GC</td>\n",
       "      <td>452099</td>\n",
       "      <td>1760800.45</td>\n",
       "      <td>176080.0</td>\n",
       "      <td>4.0</td>\n",
       "    </tr>\n",
       "    <tr>\n",
       "      <th>3</th>\n",
       "      <td>HF</td>\n",
       "      <td>6405136</td>\n",
       "      <td>15528810.94</td>\n",
       "      <td>1552881.0</td>\n",
       "      <td>2.0</td>\n",
       "    </tr>\n",
       "  </tbody>\n",
       "</table>\n",
       "</div>"
      ],
      "text/plain": [
       "  brand  box_count  TOTAL_COMPENSATION_AMOUNT  weekly compensation  \\\n",
       "0    EP    1067787                 2801644.61             280164.0   \n",
       "1    FA    3212106                32264959.93            3226496.0   \n",
       "2    GC     452099                 1760800.45             176080.0   \n",
       "3    HF    6405136                15528810.94            1552881.0   \n",
       "\n",
       "   avg box comp  \n",
       "0           3.0  \n",
       "1          10.0  \n",
       "2           4.0  \n",
       "3           2.0  "
      ]
     },
     "metadata": {},
     "output_type": "display_data"
    }
   ],
   "source": [
    "display(get_CC_costs_brand(non_address_flags,CC))"
   ]
  },
  {
   "cell_type": "markdown",
   "metadata": {},
   "source": [
    "5. Get Avg weekly carrier charges"
   ]
  },
  {
   "cell_type": "code",
   "execution_count": 24,
   "metadata": {},
   "outputs": [
    {
     "data": {
      "text/html": [
       "<div>\n",
       "<style scoped>\n",
       "    .dataframe tbody tr th:only-of-type {\n",
       "        vertical-align: middle;\n",
       "    }\n",
       "\n",
       "    .dataframe tbody tr th {\n",
       "        vertical-align: top;\n",
       "    }\n",
       "\n",
       "    .dataframe thead th {\n",
       "        text-align: right;\n",
       "    }\n",
       "</style>\n",
       "<table border=\"1\" class=\"dataframe\">\n",
       "  <thead>\n",
       "    <tr style=\"text-align: right;\">\n",
       "      <th></th>\n",
       "      <th>brand</th>\n",
       "      <th>correction_charge</th>\n",
       "      <th>weekly charges</th>\n",
       "    </tr>\n",
       "  </thead>\n",
       "  <tbody>\n",
       "    <tr>\n",
       "      <th>0</th>\n",
       "      <td>EP</td>\n",
       "      <td>26113.0</td>\n",
       "      <td>2611.0</td>\n",
       "    </tr>\n",
       "    <tr>\n",
       "      <th>1</th>\n",
       "      <td>FA</td>\n",
       "      <td>39143.0</td>\n",
       "      <td>3914.0</td>\n",
       "    </tr>\n",
       "    <tr>\n",
       "      <th>2</th>\n",
       "      <td>GC</td>\n",
       "      <td>11558.5</td>\n",
       "      <td>1156.0</td>\n",
       "    </tr>\n",
       "    <tr>\n",
       "      <th>3</th>\n",
       "      <td>HF</td>\n",
       "      <td>129910.0</td>\n",
       "      <td>12991.0</td>\n",
       "    </tr>\n",
       "  </tbody>\n",
       "</table>\n",
       "</div>"
      ],
      "text/plain": [
       "  brand  correction_charge  weekly charges\n",
       "0    EP            26113.0          2611.0\n",
       "1    FA            39143.0          3914.0\n",
       "2    GC            11558.5          1156.0\n",
       "3    HF           129910.0         12991.0"
      ]
     },
     "metadata": {},
     "output_type": "display_data"
    },
    {
     "name": "stdout",
     "output_type": "stream",
     "text": [
      "Total : $ 20672.0  charged weekly in carrier charges\n"
     ]
    }
   ],
   "source": [
    "display(get_carrier_charges(address_flags))\n",
    "print(\"Total : $\",sum(get_carrier_charges(address_flags)['weekly charges']),\" charged weekly in carrier charges\")"
   ]
  },
  {
   "cell_type": "markdown",
   "metadata": {},
   "source": [
    "6. Analysis of carrier charges vs OTP"
   ]
  },
  {
   "cell_type": "code",
   "execution_count": 25,
   "metadata": {},
   "outputs": [
    {
     "data": {
      "text/html": [
       "<div>\n",
       "<style scoped>\n",
       "    .dataframe tbody tr th:only-of-type {\n",
       "        vertical-align: middle;\n",
       "    }\n",
       "\n",
       "    .dataframe tbody tr th {\n",
       "        vertical-align: top;\n",
       "    }\n",
       "\n",
       "    .dataframe thead th {\n",
       "        text-align: right;\n",
       "    }\n",
       "</style>\n",
       "<table border=\"1\" class=\"dataframe\">\n",
       "  <thead>\n",
       "    <tr style=\"text-align: right;\">\n",
       "      <th></th>\n",
       "      <th>OTP_GROUP</th>\n",
       "      <th>correction_charge</th>\n",
       "      <th>BOX_ID</th>\n",
       "      <th>weekly charges</th>\n",
       "      <th>weekly count</th>\n",
       "      <th>count perc</th>\n",
       "    </tr>\n",
       "  </thead>\n",
       "  <tbody>\n",
       "    <tr>\n",
       "      <th>0</th>\n",
       "      <td>Early -1</td>\n",
       "      <td>1651.0</td>\n",
       "      <td>93</td>\n",
       "      <td>165.0</td>\n",
       "      <td>9.0</td>\n",
       "      <td>0.73</td>\n",
       "    </tr>\n",
       "    <tr>\n",
       "      <th>1</th>\n",
       "      <td>Early -2</td>\n",
       "      <td>69.0</td>\n",
       "      <td>4</td>\n",
       "      <td>7.0</td>\n",
       "      <td>0.0</td>\n",
       "      <td>0.00</td>\n",
       "    </tr>\n",
       "    <tr>\n",
       "      <th>2</th>\n",
       "      <td>Late_1</td>\n",
       "      <td>59018.0</td>\n",
       "      <td>3462</td>\n",
       "      <td>5902.0</td>\n",
       "      <td>346.0</td>\n",
       "      <td>28.18</td>\n",
       "    </tr>\n",
       "    <tr>\n",
       "      <th>3</th>\n",
       "      <td>Late_2</td>\n",
       "      <td>21559.0</td>\n",
       "      <td>1180</td>\n",
       "      <td>2156.0</td>\n",
       "      <td>118.0</td>\n",
       "      <td>9.61</td>\n",
       "    </tr>\n",
       "    <tr>\n",
       "      <th>4</th>\n",
       "      <td>On_Time</td>\n",
       "      <td>113102.5</td>\n",
       "      <td>6866</td>\n",
       "      <td>11310.0</td>\n",
       "      <td>687.0</td>\n",
       "      <td>55.94</td>\n",
       "    </tr>\n",
       "    <tr>\n",
       "      <th>5</th>\n",
       "      <td>Undelivered</td>\n",
       "      <td>11325.0</td>\n",
       "      <td>677</td>\n",
       "      <td>1132.0</td>\n",
       "      <td>68.0</td>\n",
       "      <td>5.54</td>\n",
       "    </tr>\n",
       "  </tbody>\n",
       "</table>\n",
       "</div>"
      ],
      "text/plain": [
       "     OTP_GROUP  correction_charge  BOX_ID  weekly charges  weekly count  \\\n",
       "0     Early -1             1651.0      93           165.0           9.0   \n",
       "1     Early -2               69.0       4             7.0           0.0   \n",
       "2       Late_1            59018.0    3462          5902.0         346.0   \n",
       "3       Late_2            21559.0    1180          2156.0         118.0   \n",
       "4      On_Time           113102.5    6866         11310.0         687.0   \n",
       "5  Undelivered            11325.0     677          1132.0          68.0   \n",
       "\n",
       "   count perc  \n",
       "0        0.73  \n",
       "1        0.00  \n",
       "2       28.18  \n",
       "3        9.61  \n",
       "4       55.94  \n",
       "5        5.54  "
      ]
     },
     "metadata": {},
     "output_type": "display_data"
    },
    {
     "name": "stdout",
     "output_type": "stream",
     "text": [
      "Avg fee : 16.83\n",
      "Total boxes with carrier charges : 1228.0\n",
      "Total boxes with carrier charges and L/U: 532.0\n"
     ]
    }
   ],
   "source": [
    "charges_and_OTP=get_positive_carrier_charges_and_OTP(address_flags)\n",
    "display(charges_and_OTP)\n",
    "print(\"Avg fee :\",round(sum(charges_and_OTP['weekly charges']/sum(charges_and_OTP['weekly count'])),2))\n",
    "print(\"Total boxes with carrier charges :\", sum(charges_and_OTP['weekly count']))\n",
    "print(\"Total boxes with carrier charges and L/U:\", sum(charges_and_OTP[charges_and_OTP['OTP_GROUP'].isin(['Late_1', 'Late_2', 'Undelivered'])]['weekly count']))"
   ]
  },
  {
   "cell_type": "markdown",
   "metadata": {},
   "source": [
    "7. Get weekly CC compensation for boxes with carrier charges"
   ]
  },
  {
   "cell_type": "code",
   "execution_count": 26,
   "metadata": {},
   "outputs": [
    {
     "data": {
      "text/html": [
       "<div>\n",
       "<style scoped>\n",
       "    .dataframe tbody tr th:only-of-type {\n",
       "        vertical-align: middle;\n",
       "    }\n",
       "\n",
       "    .dataframe tbody tr th {\n",
       "        vertical-align: top;\n",
       "    }\n",
       "\n",
       "    .dataframe thead th {\n",
       "        text-align: right;\n",
       "    }\n",
       "</style>\n",
       "<table border=\"1\" class=\"dataframe\">\n",
       "  <thead>\n",
       "    <tr style=\"text-align: right;\">\n",
       "      <th></th>\n",
       "      <th>brand</th>\n",
       "      <th>box_count</th>\n",
       "      <th>TOTAL_COMPENSATION_AMOUNT</th>\n",
       "      <th>weekly compensation</th>\n",
       "    </tr>\n",
       "  </thead>\n",
       "  <tbody>\n",
       "    <tr>\n",
       "      <th>0</th>\n",
       "      <td>EP</td>\n",
       "      <td>1420</td>\n",
       "      <td>25236.42</td>\n",
       "      <td>2524.0</td>\n",
       "    </tr>\n",
       "    <tr>\n",
       "      <th>1</th>\n",
       "      <td>FA</td>\n",
       "      <td>2161</td>\n",
       "      <td>51967.57</td>\n",
       "      <td>5197.0</td>\n",
       "    </tr>\n",
       "    <tr>\n",
       "      <th>2</th>\n",
       "      <td>GC</td>\n",
       "      <td>635</td>\n",
       "      <td>19349.45</td>\n",
       "      <td>1935.0</td>\n",
       "    </tr>\n",
       "    <tr>\n",
       "      <th>3</th>\n",
       "      <td>HF</td>\n",
       "      <td>7663</td>\n",
       "      <td>128910.64</td>\n",
       "      <td>12891.0</td>\n",
       "    </tr>\n",
       "  </tbody>\n",
       "</table>\n",
       "</div>"
      ],
      "text/plain": [
       "  brand  box_count  TOTAL_COMPENSATION_AMOUNT  weekly compensation\n",
       "0    EP       1420                   25236.42               2524.0\n",
       "1    FA       2161                   51967.57               5197.0\n",
       "2    GC        635                   19349.45               1935.0\n",
       "3    HF       7663                  128910.64              12891.0"
      ]
     },
     "metadata": {},
     "output_type": "display_data"
    },
    {
     "name": "stdout",
     "output_type": "stream",
     "text": [
      "Weekly CC for boxes with carrier charges: $ 22547.0\n"
     ]
    }
   ],
   "source": [
    "display(get_CC_for_corrected_boxes(address_flags,CC))\n",
    "print(\"Weekly CC for boxes with carrier charges: $\",sum(get_CC_for_corrected_boxes(address_flags,CC)['weekly compensation']))"
   ]
  },
  {
   "cell_type": "code",
   "execution_count": 37,
   "metadata": {},
   "outputs": [
    {
     "data": {
      "text/plain": [
       "0.0025139660000000003"
      ]
     },
     "execution_count": 37,
     "metadata": {},
     "output_type": "execute_result"
    }
   ],
   "source": [
    "0.0038*0.727*0.91"
   ]
  },
  {
   "cell_type": "code",
   "execution_count": null,
   "metadata": {},
   "outputs": [],
   "source": []
  }
 ],
 "metadata": {
  "kernelspec": {
   "display_name": "base",
   "language": "python",
   "name": "python3"
  },
  "language_info": {
   "codemirror_mode": {
    "name": "ipython",
    "version": 3
   },
   "file_extension": ".py",
   "mimetype": "text/x-python",
   "name": "python",
   "nbconvert_exporter": "python",
   "pygments_lexer": "ipython3",
   "version": "3.11.5"
  }
 },
 "nbformat": 4,
 "nbformat_minor": 2
}
